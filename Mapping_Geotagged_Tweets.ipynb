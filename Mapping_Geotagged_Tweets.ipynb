{
 "cells": [
  {
   "cell_type": "markdown",
   "metadata": {},
   "source": [
    "# Mapping Geotagged Tweets\n",
    "#### This exercise is part of the *Teaching Privacy* curriculum, which you can find at https://teachingprivacy.org.\n"
   ]
  },
  {
   "cell_type": "markdown",
   "metadata": {},
   "source": [
    "## Part 1: Install the Tweepy Library\n",
    "\n",
    "\n",
    "To access the Twitter API, you will use the Tweepy library. To install it, try running the following in your terminal:\n",
    "\n",
    "**pip install tweepy**\n",
    "\n",
    "If this does not work, check the readme file at https://github.com/tweepy/tweepy for the most up-to-date installation instructions. \n",
        "\n",
    "*For more on getting and using **pip**, check out <a href=\"https://pip.pypa.io/en/stable/\" target=\"_blank\">the documentation</a> or <a href=\"https://www.w3schools.com/python/python_pip.asp\" target=\"_blank\">the w3schools tutorial</a>.*\n",
    "\n",
    "Run the cell below to import the module."
   ]
  },
  {
   "cell_type": "code",
   "execution_count": 2,
   "metadata": {
    "collapsed": true
   },
   "outputs": [],
   "source": [
    "import tweepy\n",
    "from tweepy import TweepError\n",
    "import json"
   ]
  },
  {
   "cell_type": "markdown",
   "metadata": {},
   "source": [
    "## Part 2: Create Twitter App and Get Access Tokens\n",
    "\n",
    "### Create a Twitter App\n",
    "\n",
    "1. Go to https://apps.twitter.com and click 'Sign In'. If you don't have a Twitter account or don't want to use your current Twitter account, you will need to create one.\n",
    "2. Click on 'Create New App'.\n",
    "3. Give your app a Name, Description, and Website. For the website, you can use a placeholder (such as https://teachingprivacy.org)."
   ]
  },
  {
   "cell_type": "markdown",
   "metadata": {},
   "source": [
    "### Obtain Twitter API Keys \n",
    "\n",
    "When using APIs that require tokens and keys for authentication, it is common practice to have your keys in a separate JSON file, to protect yourself and the app's users. Your key file should not be posted in public repositories, and you should *never* share your keys. \n",
    "\n",
    "\n",
    "Create a new text file named **twitter_keys.json** with the following format:\n",
    "\n",
    "{ <br>\n",
    "   \"api_key\":\"\", <br>\n",
    "   \"api_secret\":  \"\", <br>\n",
    "   \"access_token\": \"\", <br>\n",
    "   \"access_token_secret\": \"\" <br>\n",
    "}\n",
    "<br>\n",
    "1. Go into the app you created in the previous step and go to the 'Keys and Access Tokens' tab. \n",
    "2. Copy and paste the tokens and keys for the corresponding variables into your JSON file. <br>\n",
    "    a. You will need to click 'Create my access token' when you first create your app. <br>\n",
    "    b. Make sure you copy and paste the tokens *inside* the quotation marks.\n",
    "3. Run the cell below to assign your keys to the **keys** variable."
   ]
  },
  {
   "cell_type": "code",
   "execution_count": 3,
   "metadata": {
    "collapsed": true
   },
   "outputs": [],
   "source": [
    "keys_file = 'twitter_keys.json'\n",
    "with open(keys_file) as file:\n",
    "    keys = json.load(file)"
   ]
  },
  {
   "cell_type": "markdown",
   "metadata": {},
   "source": [
    "Run the cell below to check whether you've correctly set up the keys."
   ]
  },
  {
   "cell_type": "code",
   "execution_count": 4,
   "metadata": {},
   "outputs": [
    {
     "name": "stdout",
     "output_type": "stream",
     "text": [
      "You have correctly set up your API keys. Your username is: ImKarloss\n"
     ]
    }
   ],
   "source": [
    "try:\n",
    "    auth = tweepy.OAuthHandler(keys[\"api_key\"], keys[\"api_secret\"])\n",
    "    auth.set_access_token(keys[\"access_token\"], keys[\"access_token_secret\"])\n",
    "    api = tweepy.API(auth)\n",
    "    print(\"You have correctly set up your API keys. Your username is:\", api.auth.get_username())\n",
    "except TweepError as e:\n",
    "    print(\"Tweepy found an error. Revisit your twitter_keys.json file and make sure you have the correct keys.\")"
   ]
  },
  {
   "cell_type": "markdown",
   "metadata": {},
   "source": [
    "## Part 3: Use the Twitter API with Tweepy to Gather Tweet Metadata\n",
    "\n",
    "Now that you've been authenticated to use the Twitter API, it's time to get acquainted with it.\n",
    "\n",
    "With help from <a href=\"http://tweepy.readthedocs.io/en/v3.5.0/\" target=\"_blank\">the Tweepy documentation</a>, find the 200 most-recent tweets for, say, Twitter user @stevewoz, in the cell below.\n",
    "\n",
        "**Teacher Note: The outputs below used @jack (Jack Dorsey) in summer 2018. We instead suggest students look at Steve Wozniak first because he more frequently allows geotags from more interesting locations.**\n",
    "\n",
    "*Hint: Look for a method to return the user timeline under 'API Reference'. http://docs.tweepy.org/en/v3.5.0/api.html#timeline-methods*"
   ]
  },
  {
   "cell_type": "code",
   "execution_count": 1,
   "metadata": {
    "collapsed": true
   },
   "outputs": [],
   "source": [
    "tweets = ..."
   ]
  },
  {
   "cell_type": "markdown",
   "metadata": {},
   "source": [
    "In the cell below, identify the data type of the previous tweet."
   ]
  },
  {
   "cell_type": "code",
   "execution_count": null,
   "metadata": {},
   "outputs": [],
   "source": []
  },
  {
   "cell_type": "markdown",
   "metadata": {},
   "source": [
    "The cell above should say we have a tweepy.models.ResultSet, which is a list of Status objects, or tweets. Confirm this in the cell below by indexing the first tweet and checking its type."
   ]
  },
  {
   "cell_type": "code",
   "execution_count": null,
   "metadata": {},
   "outputs": [],
   "source": []
  },
  {
   "cell_type": "markdown",
   "metadata": {},
   "source": [
    "RESTful APIs typically send data in JSON format, the same format as our keys file. Using the '._json' attribute, convert the first tweet into a dictionary in the cell below. \n",
    "\n",
    "- *For some background, try this Stackoverflow post with more information about the json attribute: https://stackoverflow.com/questions/27900451/convert-tweepy-status-object-into-json * <br>\n",
    "- *If you have not used dictionaries before, you can check out these videos: https://www.youtube.com/watch?v=daefaLgNkw0 or https://www.youtube.com/watch?v=XCcpzWs-CI4 *"
   ]
  },
  {
   "cell_type": "code",
   "execution_count": 2,
   "metadata": {},
   "outputs": [
    {
     "data": {
      "text/plain": [
       "Ellipsis"
      ]
     },
     "execution_count": 2,
     "metadata": {},
     "output_type": "execute_result"
    }
   ],
   "source": [
    "first_tweet_dict = ...\n",
    "first_tweet_dict"
   ]
  },
  {
   "cell_type": "markdown",
   "metadata": {},
   "source": [
    "Looking at the cell above, you should see that we got a nested dictionary. That's the common JSON format, but this in itself is not a JSON file. \n",
    "\n",
    "Explore the result to identify where the tweet's location is listed and under which keys. Use the cell below to print the first tweet's location.\n",
    "\n",
    "*Hint: Not all tweets have locations embedded. Find the first tweet's 'place' tag.*"
   ]
  },
  {
   "cell_type": "code",
   "execution_count": 3,
   "metadata": {},
   "outputs": [
    {
     "name": "stdout",
     "output_type": "stream",
     "text": [
      "This tweet was tweeted from: Ellipsis\n"
     ]
    }
   ],
   "source": [
    "first_tweet_location = ...\n",
    "print('This tweet was tweeted from:', first_tweet_location)"
   ]
  },
{
   "cell_type": "markdown",
   "metadata": {},
   "source": [
    "## Part 4: Gather Tweet Locations\n",
    "\n",
    "In the cell below, find the locations for all the tweets we obtained. \n",
    "\n",
    "*Hint: Not all tweets are geotagged, so figure out how to only append actual tweet locations to the list, and ignore those with no location.*"
   ]
  },
  {
   "cell_type": "code",
   "execution_count": 4,
   "metadata": {},
   "outputs": [
    {
     "data": {
      "text/plain": [
       "Ellipsis"
      ]
     },
     "execution_count": 4,
     "metadata": {},
     "output_type": "execute_result"
    }
   ],
   "source": [
    "locations = ...\n",
    "\n",
    "locations"
   ]
  },
  {
   "cell_type": "markdown",
   "metadata": {},
   "source": [
    "## Part 5: Install Plotting Libraries \n",
    "\n",
    "We will use the **geoplotlib** library to visualize tweet locations. Geoplotlib requires two other libraries, **NumPy** and **pyglet**, so you will need to install those too, using the following 3 *separate* commands in your terminal:\n",
    "\n",
    "**pip install numpy <br>\n",
    "pip install pyglet <br>\n",
    "pip install geoplotlib <br>**\n",
    "\n",
    "When you're done, run the cell below to import Tweepy and all other necessary Python modules."
   ]
  },
  {
   "cell_type": "code",
   "execution_count": 14,
   "metadata": {
    "collapsed": true
   },
   "outputs": [],
   "source": [
    "import geoplotlib"
   ]
  },
  {
   "cell_type": "markdown",
   "metadata": {},
   "source": [
    "## Part 6: Visualize Tweet Locations\n",
    "\n",
    "Now that we've stored the locations of the user's tweets, we can create a visualization.\n",
    "\n",
    "For each tweet with a location, Twitter stores four pairs of latitude and longitude coordinates, to create a bounding box. For each tweet, store the first pair from each bounding box in an array named 'coords'.\n"
   ]
  },
  {
   "cell_type": "code",
   "execution_count": 5,
   "metadata": {
    "collapsed": true
   },
   "outputs": [],
   "source": [
    "coords = ..."
   ]
  },
  {
   "cell_type": "markdown",
   "metadata": {
    "collapsed": true
   },
   "source": [
    "Geoplotlib has a utils.DataAccessObject that takes in a dictionary or pandas dataframe to create a DataAccessObject. This is the data type the library uses to create its maps.\n",
    "\n",
    "Create a dictionary with three keys: latitude, longitude, and the name of the city, in that order. For each key, the value should be a list with the corresponding values. You should already have the necessary values in previously assigned arrays.\n",
    "\n",
    "Next, use the utils.DataAccessObject method to create the DataAccessObject and use the .dot method to create a dot density map.\n",
    "\n",
    "*Hint: After creating the dot density map, you'll need to call geoplotlib.show() to open a window with the map.*"
   ]
  },
  {
   "cell_type": "code",
   "execution_count": null,
   "metadata": {
    "collapsed": true
   },
   "outputs": [],
   "source": [
    "lat, lon, name = [], [], locations\n",
    "lat = ...\n",
    "lon = ...\n",
    "loc = {'lat': ..., 'lon': ..., 'name': ...}\n",
    "geo_loc = geoplotlib.utils.DataAccessObject(loc)\n",
    "geoplotlib.dot(geo_loc)\n",
    "geoplotlib.show()"
   ]
  },
  {
   "cell_type": "markdown",
   "metadata": {
    "collapsed": true
   },
   "source": [
    "## Part 7: Optional Extension\n",
    "\n",
    "This exercise will, of course, get different results depending on the Twitter user you look at. Try your own Twitter account or the account of your favorite celebrity! Some users will have no geotagged tweets, while others may only tweet from a single city.\n",
    "\n",
    "## Part 8: Brainstorm and Reflect\n",
  "\n",
  "*If you don't use Twitter, answer the questions below as though you did.*\n",
      "\n",
  "- How do you decide whether to include the location for a Tweet?<br>\n",
  "- Who do you picture as the audience when you're tweeting? Why would you want (or at least allow) those people to know your location? *Do* you actually want them to?<br>\n",
  "- What could someone do with location data from, say, 100 of your tweets, that they couldn't do with just one?<br>\n",
  "  - If someone never put their address on the Internet, how might you go about figuring out where they live?<br>\n",
  "  - How could someone use your tweets in combination with other online data to figure something out?<br>\n",  
  "- What could someone do with location data from many people's tweets at once?\n"
   ]
  }
 ],
 "metadata": {
  "kernelspec": {
   "display_name": "Python 3",
   "language": "python",
   "name": "python3"
  },
  "language_info": {
   "codemirror_mode": {
    "name": "ipython",
    "version": 3
   },
   "file_extension": ".py",
   "mimetype": "text/x-python",
   "name": "python",
   "nbconvert_exporter": "python",
   "pygments_lexer": "ipython3",
   "version": "3.6.1"
  }
 },
 "nbformat": 4,
 "nbformat_minor": 2
}
