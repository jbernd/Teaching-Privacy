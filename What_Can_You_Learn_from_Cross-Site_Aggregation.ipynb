{
 "cells": [
  {
   "cell_type": "markdown",
   "metadata": {},
   "source": [
    "# What Can You Learn from Cross-Site Aggregation?\n",
    "\n",
    "#### This exercise is part of the *Teaching Privacy* curriculum, which you can find at https://teachingprivacy.org.\n",
   "\n",
   "In this exercise, you will aggregate data about a character named Kai Peroc from Tumblr and Twitter:<br>\n",
    "https://twitter.com/kaiperoc<br>\n",
    "https://kaiperoc.tumblr.com\n"
   ]
  },
   {
   "cell_type": "markdown",
   "metadata": {},
   "source": [
    "## Part 1: Install the API Libraries\n",
    "\n",
    "### Tumblr API\n",
    "\n",
    "To access the Tumblr API, you will use the PyTumblr library. To install it, run the following in your terminal:\n",
    "\n",
    "**sudo pip install oauth oauth2 pytumblr**\n",
        "\n",
    "If this doesn't work, check the <a href=\"https://github.com/tumblr/pytumblr\" target=\"_blank\">PyTumblr</a> readme file for the most up-to-date installation instructions. \n",
    "\n",
    "*For more on getting and using **pip**, check out <a href=\"https://pip.pypa.io/en/stable/\" target=\"_blank\">the documentation</a> or <a href=\"https://www.w3schools.com/python/python_pip.asp\" target=\"_blank\">the w3schools tutorial</a>.*\n",
    "\n"
       ]
  }, 
  {
   "cell_type": "markdown",
   "metadata": {},
   "source": [
    "### Twitter API\n",
    "\n",
    "To access the Twitter API, you will use the Tweepy library. To install it, try running the following in your terminal:\n",
    "\n",
    "**pip install tweepy**\n",
    "\n",
    "If this doesn't work, check the readme file at https://github.com/tweepy/tweepy for the most up-to-date installation instructions. \n",
    "\n"
       ]
  },
  {
   "cell_type": "markdown",
   "metadata": {},
   "source": [
    "### Import\n",
    "\n",
    "Now run the cell below to import the appropriate packages."
   ]
  },
  {
   "cell_type": "code",
   "execution_count": 2,
   "metadata": {
    "collapsed": true
   },
   "outputs": [],
   "source": [
    "import pytumblr\n",
    "import tweepy\n",
    "from tweepy import TweepError\n",
    "import json\n",
    "import re"
   ]
  },
   {
   "cell_type": "markdown",
   "metadata": {},
   "source": [
    "## Part 2: Create Tumblr App and Get Access Tokens\n",
    "\n",
    "### Create a Tumblr App\n",
    "\n",
    "1. Go to https://www.tumblr.com/oauth/apps. You will need to create a Tumblr account if you don't have one already or don't want to use your existing account for this purpose.\n",
    "2. Click on 'Register application'.\n",
    "3. Fill out the required fields. For the 'Application website' and 'Callback URL', you can use a placeholder (such as https://teachingprivacy.org); note that the URLs must match.\n",
    "\n"
       ]
  },
  {
   "cell_type": "markdown",
   "metadata": {},
   "source": [
    "### Obtain Tumblr API Keys\n",
    "\n",
    "Go into the app you created. You should see your oauth consumer key and your secret key.\n",
    "\n",
    "Go to https://api.tumblr.com/console and copy and paste these keys into the appropriate fields to get your oauth token and oauth secret key.\n",
    "\n",
    "When using APIs that require tokens and keys for authentication, it is common practice to keep your keys in a separate JSON file, to protect yourself and the app's users. Your key file should not be posted in public repositories, and you should *never* share your keys. \n",
    "\n",
    "Create a new file called **tumblr_keys.json** with the format below. Paste your keys between the empty quotation marks. (Make sure you don't overwrite the quotation marks!) <br> <br>\n",
    "{ <br>\n",
    "   \"api_key\": \"\" <br>\n",
    "   \"api_secret\":  \"\", <br>\n",
    "   \"oauth_token\": \"\", <br>\n",
    "   \"oauth_secret\": \"\" <br>\n",
    "}\n"
]
  },
  {
   "cell_type": "markdown",
   "metadata": {},
   "source": [
    "## Part 3: Create Twitter App and Get Access Tokens\n",
    "\n",
    "### Create a Twitter App\n",
    "\n",
    "1. Go to https://apps.twitter.com and click 'Sign In'. If you don't have a Twitter account or don't want to use your current Twitter account, you will need to create one.\n",
    "2. Click on 'Create New App'.\n",
    "3. Give your app a Name, Description, and Website. For the website, you can use a placeholder (such as https://teachingprivacy.org)."
   ]
  },
  {
   "cell_type": "markdown",
   "metadata": {},
   "source": [
    "### Obtain Twitter API Keys \n",
    "\n",
    "Create a new text file named **twitter_keys.json** with the following format:\n",
    "\n",
    "{ <br>\n",
    "   \"consumer_key\":\"\", <br>\n",
    "   \"consumer_secret\":  \"\", <br>\n",
    "   \"access_token\": \"\", <br>\n",
    "   \"access_token_secret\": \"\" <br>\n",
    "}\n",
    "<br>\n",
    "1. Go into the app you created in the previous step and go to the 'Keys and Access Tokens' tab. \n",
    "2. Copy and paste the tokens and keys for the corresponding variables into your JSON file. <br>\n",
    "    a. You will need to click 'Create my access token' when you first create your app. <br>\n",
    "    b. Make sure you copy and paste the tokens *inside* the quotation marks.\n",
    "\n"
    ]
  },
  {
   "cell_type": "markdown",
   "metadata": {},
   "source": [
    "## Part 4: Assign and Verify Your API Keys\n",
    "\n",
    "### Assign the Keys\n",
    "\n",
    "Run the cell below to assign your keys to the **keys** variable.\n"
   ]
  },
  {
   "cell_type": "code",
   "execution_count": 3,
   "metadata": {
    "collapsed": true
   },
   "outputs": [],
   "source": [
    "twitter_keys_file = 'twitter_keys.json'\n",
    "tumblr_keys_file = 'tumblr_keys.json'\n",
    "with open(twitter_keys_file) as file:\n",
    "    twitter_keys = json.load(file)\n",
    "with open(tumblr_keys_file) as file:\n",
    "    tumblr_keys = json.load(file)"
   ]
  },
{
   "cell_type": "markdown",
   "metadata": {},
   "source": [
    "### Establish Your Tumblr API\n",
    "\n",
    "Now that you have set up your keys, run the cell below to establish your Tumblr API."
   ]
  },
  {
   "cell_type": "code",
   "execution_count": 4,
   "metadata": {},
   "outputs": [
    {
     "data": {
      "text/plain": [
       "{'user': {'blogs': [{'admin': True,\n",
       "    'ask': True,\n",
       "    'ask_anon': True,\n",
       "    'ask_page_title': 'Ask me anything',\n",
       "    'can_send_fan_mail': True,\n",
       "    'can_submit': True,\n",
       "    'can_subscribe': False,\n",
       "    'description': 'The Office, music, and friends. #CarpeDiem',\n",
       "    'drafts': 0,\n",
       "    'facebook': 'N',\n",
       "    'facebook_opengraph_enabled': 'N',\n",
       "    'followed': False,\n",
       "    'followers': 394,\n",
       "    'is_blocked_from_primary': False,\n",
       "    'likes': 8807,\n",
       "    'messages': 4,\n",
       "    'name': 'ratchetmessiah',\n",
       "    'posts': 16636,\n",
       "    'primary': True,\n",
       "    'queue': 0,\n",
       "    'share_likes': True,\n",
       "    'submission_page_title': 'Submit a post',\n",
       "    'submission_terms': {'accepted_types': ['text',\n",
       "      'photo',\n",
       "      'quote',\n",
       "      'link',\n",
       "      'video'],\n",
       "     'guidelines': '',\n",
       "     'tags': [],\n",
       "     'title': 'Submit a post'},\n",
       "    'subscribed': False,\n",
       "    'title': 'Swagalicious Fergalicious Blog',\n",
       "    'total_posts': 16636,\n",
       "    'tweet': 'N',\n",
       "    'twitter_enabled': False,\n",
       "    'twitter_send': False,\n",
       "    'type': 'public',\n",
       "    'updated': 1496643575,\n",
       "    'url': 'http://ratchetmessiah.tumblr.com/'},\n",
       "   {'admin': True,\n",
       "    'ask': False,\n",
       "    'ask_anon': False,\n",
       "    'ask_page_title': 'Ask me anything',\n",
       "    'can_send_fan_mail': True,\n",
       "    'can_subscribe': True,\n",
       "    'description': \"I was bored so I made this blog! :D\\nI have a blog that's supposed to be funny too!\",\n",
       "    'drafts': 0,\n",
       "    'facebook': 'N',\n",
       "    'facebook_opengraph_enabled': 'N',\n",
       "    'followed': True,\n",
       "    'followers': 1,\n",
       "    'is_blocked_from_primary': False,\n",
       "    'messages': 0,\n",
       "    'name': 'thiswasfree',\n",
       "    'posts': 77,\n",
       "    'primary': False,\n",
       "    'queue': 0,\n",
       "    'share_likes': False,\n",
       "    'subscribed': False,\n",
       "    'title': 'This was Free',\n",
       "    'total_posts': 77,\n",
       "    'tweet': 'N',\n",
       "    'twitter_enabled': False,\n",
       "    'twitter_send': False,\n",
       "    'type': 'public',\n",
       "    'updated': 1379866855,\n",
       "    'url': 'http://thiswasfree.tumblr.com/'}],\n",
       "  'default_post_format': 'html',\n",
       "  'following': 45,\n",
       "  'likes': 8807,\n",
       "  'name': 'ratchetmessiah'}}"
      ]
     },
     "execution_count": 4,
     "metadata": {},
     "output_type": "execute_result"
    }
   ],
   "source": [
    "client = pytumblr.TumblrRestClient(\n",
    "    tumblr_keys['api_key'],\n",
    "    tumblr_keys['api_secret'],\n",
    "    tumblr_keys['oauth_token'],\n",
    "    tumblr_keys['oauth_secret'],\n",
    ")\n",
    "client.info()"
   ]
  },
{
   "cell_type": "markdown",
   "metadata": {},
   "source": [
   "### Check Twitter Keys\n",
    "\n",
    "Run the cell below to check whether you have set up the Twitter keys correctly."
   ]
  },
  {
   "cell_type": "code",
   "execution_count": 5,
   "metadata": {},
   "outputs": [
    {
     "name": "stdout",
     "output_type": "stream",
     "text": [
      "You have correctly set up your API keys. Your username is: ImKarloss\n"
     ]
    }
   ],
   "source": [
    "try:\n",
    "    auth = tweepy.OAuthHandler(twitter_keys[\"api_key\"], twitter_keys[\"api_secret\"])\n",
    "    auth.set_access_token(twitter_keys[\"access_token\"], twitter_keys[\"access_token_secret\"])\n",
    "    api = tweepy.API(auth)\n",
    "    print(\"You have correctly set up your API keys. Your username is:\", api.auth.get_username())\n",
    "except TweepError as e:\n",
    "    print(\"Tweepy found an error. Revisit your keys.json file and make sure you have the correct keys.\")"
   ]
  },
 {
   "cell_type": "markdown",
   "metadata": {},
   "source": [
    "## Part 5: Gather Some Data\n",
    "\n",
    "Now that you've set up the API, let's see what data you can get from someone's social media accounts.\n"
       ]
  },
   {
   "cell_type": "markdown",
   "metadata": {},
   "source": [
    "### Gather Tumblr Posts\n",
    "\n",
    "With the help of the <a href=\"https://github.com/tumblr/pytumblr\" target=\"_blank\">PyTumblr</a> documentation, grab all of Kai Peroc's Tumblr posts and store them in the array provided. \n",
    "\n",
    "The example in the cell below contains a line that uses regular expressions (regex) to remove the html tags in posts.\n"
   ]
  },
  {
   "cell_type": "code",
   "execution_count": 6,
   "metadata": {},
   "outputs": [
    {
     "name": "stdout",
     "output_type": "stream",
     "text": [
      "This string has an .\n"
     ]
    }
   ],
   "source": [
    "regex = re.compile('<.*?>')\n",
    "old = \"This string has an <html tag>.\"\n",
    "new = re.sub(regex, '', old)\n",
    "print(new)"
   ]
  },
   {
   "cell_type": "markdown",
   "metadata": {},
   "source": [
    "*Hints:*<br>\n",
        "*1. Look for the .posts method in the documentation.*<br>\n",
    "*2. When looking for posts, note that not all types of posts will have the same tags. Look in the 'body' or 'caption' tags.*<br>\n",
    "*3. To get all the posts, store them in a variable like **tumblr_call** when you call the .posts method and iterate through them with a for loop.*<br>\n",
        "\n"
   ]
  },
  {
   "cell_type": "code",
   "execution_count": 7,
   "metadata": {},
   "outputs": [
    {
     "ename": "TypeError",
     "evalue": "argument of type 'ellipsis' is not iterable",
     "output_type": "error",
     "traceback": [
      "\u001b[0;31m---------------------------------------------------------------------------\u001b[0m",
      "\u001b[0;31mTypeError\u001b[0m                                 Traceback (most recent call last)",
      "\u001b[0;32m<ipython-input-7-13c9a7b2de06>\u001b[0m in \u001b[0;36m<module>\u001b[0;34m()\u001b[0m\n\u001b[1;32m      1\u001b[0m \u001b[0mtumblr_posts\u001b[0m \u001b[0;34m=\u001b[0m \u001b[0;34m[\u001b[0m\u001b[0;34m]\u001b[0m\u001b[0;34m\u001b[0m\u001b[0m\n\u001b[0;32m----> 2\u001b[0;31m \u001b[0mtumblr_call\u001b[0m \u001b[0;34m=\u001b[0m \u001b[0mclient\u001b[0m\u001b[0;34m.\u001b[0m\u001b[0mposts\u001b[0m\u001b[0;34m(\u001b[0m\u001b[0;34m...\u001b[0m\u001b[0;34m)\u001b[0m\u001b[0;34m\u001b[0m\u001b[0m\n\u001b[0m\u001b[1;32m      3\u001b[0m \u001b[0;34m\u001b[0m\u001b[0m\n\u001b[1;32m      4\u001b[0m \u001b[0mtumblr_posts\u001b[0m\u001b[0;34m\u001b[0m\u001b[0m\n",
      "\u001b[0;32m/Users/carlosortega/anaconda/lib/python3.6/site-packages/pytumblr/helpers.py\u001b[0m in \u001b[0;36madd_dot_tumblr\u001b[0;34m(*args, **kwargs)\u001b[0m\n\u001b[1;32m     42\u001b[0m     \u001b[0;34m@\u001b[0m\u001b[0mwraps\u001b[0m\u001b[0;34m(\u001b[0m\u001b[0mfn\u001b[0m\u001b[0;34m)\u001b[0m\u001b[0;34m\u001b[0m\u001b[0m\n\u001b[1;32m     43\u001b[0m     \u001b[0;32mdef\u001b[0m \u001b[0madd_dot_tumblr\u001b[0m\u001b[0;34m(\u001b[0m\u001b[0;34m*\u001b[0m\u001b[0margs\u001b[0m\u001b[0;34m,\u001b[0m \u001b[0;34m**\u001b[0m\u001b[0mkwargs\u001b[0m\u001b[0;34m)\u001b[0m\u001b[0;34m:\u001b[0m\u001b[0;34m\u001b[0m\u001b[0m\n\u001b[0;32m---> 44\u001b[0;31m         \u001b[0;32mif\u001b[0m \u001b[0;34m(\u001b[0m\u001b[0mlen\u001b[0m\u001b[0;34m(\u001b[0m\u001b[0margs\u001b[0m\u001b[0;34m)\u001b[0m \u001b[0;34m>\u001b[0m \u001b[0;36m1\u001b[0m \u001b[0;32mand\u001b[0m \u001b[0;34m(\u001b[0m\u001b[0;34m\".\"\u001b[0m \u001b[0;32mnot\u001b[0m \u001b[0;32min\u001b[0m \u001b[0margs\u001b[0m\u001b[0;34m[\u001b[0m\u001b[0;36m1\u001b[0m\u001b[0;34m]\u001b[0m\u001b[0;34m)\u001b[0m\u001b[0;34m)\u001b[0m\u001b[0;34m:\u001b[0m\u001b[0;34m\u001b[0m\u001b[0m\n\u001b[0m\u001b[1;32m     45\u001b[0m             \u001b[0margs\u001b[0m \u001b[0;34m=\u001b[0m \u001b[0mlist\u001b[0m\u001b[0;34m(\u001b[0m\u001b[0margs\u001b[0m\u001b[0;34m)\u001b[0m\u001b[0;34m\u001b[0m\u001b[0m\n\u001b[1;32m     46\u001b[0m             \u001b[0margs\u001b[0m\u001b[0;34m[\u001b[0m\u001b[0;36m1\u001b[0m\u001b[0;34m]\u001b[0m \u001b[0;34m+=\u001b[0m \u001b[0;34m\".tumblr.com\"\u001b[0m\u001b[0;34m\u001b[0m\u001b[0m\n",
      "\u001b[0;31mTypeError\u001b[0m: argument of type 'ellipsis' is not iterable"
     ]
    }
   ],
   "source": [
    "tumblr_posts = []\n",
    "tumblr_call = client.posts(...)\n",
    "\n",
    "tumblr_posts"
   ]
  },
 {
   "cell_type": "markdown",
   "metadata": {},
   "source": [
        "### Gather Twitter Posts\n",
    "\n",
    "Now, with help from <a href=\"http://tweepy.readthedocs.io/en/v3.5.0/\" target=\"_blank\">the Tweepy documentation</a>, grab Kai Peroc's most-recent tweets and store them in the array provided.\n",
    "\n",
    "*Hint: Look for a method to return the user timeline under 'API Reference': http://docs.tweepy.org/en/v3.5.0/api.html#timeline-methods *"
   ]
  },
  {
   "cell_type": "code",
   "execution_count": 8,
   "metadata": {},
   "outputs": [
    {
     "data": {
      "text/plain": [
       "[]"
      ]
     },
     "execution_count": 8,
     "metadata": {},
     "output_type": "execute_result"
    }
   ],
   "source": [
    "twitter_posts = []\n",
    "twitter_call = api.user_timeline(...)\n",
    "\n",
    "twitter_posts"
   ]
  },
  {
   "cell_type": "markdown",
   "metadata": {},
   "source": [
    "## Part 6: Aggregate the Data\n",
    "\n",
    "Now that you have Kai's data from two different social media accounts, it's time to aggregate."
   ]
  },
  {
   "cell_type": "code",
   "execution_count": 9,
   "metadata": {},
   "outputs": [
    {
     "data": {
      "text/plain": [
       "[]"
      ]
     },
     "execution_count": 9,
     "metadata": {},
     "output_type": "execute_result"
    }
   ],
   "source": [
    "agg_posts = []\n",
    "\n",
    "agg_posts"
   ]
  },
  {
   "cell_type": "markdown",
   "metadata": {},
   "source": [
    "## Part 7: Brainstorm and Reflect\n",
    "\n",
    "Now that you have data about Kai from two different social media sites, what inferences can you make about xem, about xir interests, likes and dislikes, affiliations, and personality?\n",
    "\n",
    "Compare the data from the two streams.\n",
    "- What similarities do you see? What do those similarities tell you about Kai?\n",
    "- How does the information on each site supplement or contextualize the other?\n",
    "- Are there any notable differences or contradictions?\n",
    "\n",
    "How would the *aggregated* data be more useful than data from a single site for...\n",
    "- An advertiser deciding what products to market to Kai?\n",
    "- A criminal looking for easy targets?\n",
    "- A potential employer Kai had applied to?\n",
    "\n",
    "In which of those situations would it be most useful to automate the process via API? Why?\n"
   ]
  },
  {
   "cell_type": "code",
   "execution_count": null,
   "metadata": {
    "collapsed": true
   },
   "outputs": [],
   "source": []
  }
 ],
 "metadata": {
  "kernelspec": {
   "display_name": "Python 3",
   "language": "python",
   "name": "python3"
  },
  "language_info": {
   "codemirror_mode": {
    "name": "ipython",
    "version": 3
   },
   "file_extension": ".py",
   "mimetype": "text/x-python",
   "name": "python",
   "nbconvert_exporter": "python",
   "pygments_lexer": "ipython3",
   "version": "3.6.1"
  }
 },
 "nbformat": 4,
 "nbformat_minor": 2
}
